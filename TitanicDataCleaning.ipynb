{
 "cells": [
  {
   "cell_type": "markdown",
   "metadata": {},
   "source": [
    "## Wstępna analiza zbioru"
   ]
  },
  {
   "cell_type": "markdown",
   "metadata": {},
   "source": [
    "Działania rozpoczęto od zaimportowania bibliotek `pandas` oraz `NumPy`."
   ]
  },
  {
   "cell_type": "code",
   "execution_count": null,
   "metadata": {},
   "outputs": [],
   "source": [
    "import pandas as pd"
   ]
  },
  {
   "cell_type": "code",
   "execution_count": null,
   "metadata": {},
   "outputs": [],
   "source": [
    "import numpy as np"
   ]
  },
  {
   "cell_type": "markdown",
   "metadata": {},
   "source": [
    "Następnie załadowano zbiór danych z pliku `TitanicMess.tsv`. Za pomocą argumentu `sep` wskazano separator, który został wykorzystany do oddzielania danych w zbiorze (tabulator), a za pomocą argumentu `dtype` narzucono typ danych dla kolumny `Name`."
   ]
  },
  {
   "cell_type": "code",
   "execution_count": null,
   "metadata": {},
   "outputs": [],
   "source": [
    "df = pd.read_csv(\"TitanicMess.tsv\", sep = '\\t', dtype={'name': np.str})"
   ]
  },
  {
   "cell_type": "markdown",
   "metadata": {},
   "source": [
    "Podgląd pierwszych dziesięciu rekordów:"
   ]
  },
  {
   "cell_type": "code",
   "execution_count": null,
   "metadata": {},
   "outputs": [],
   "source": [
    "df.head(10)"
   ]
  },
  {
   "cell_type": "markdown",
   "metadata": {},
   "source": [
    "Zbiór składa się z 892 rekordów i 13 kolumn:"
   ]
  },
  {
   "cell_type": "code",
   "execution_count": null,
   "metadata": {},
   "outputs": [],
   "source": [
    "df.shape"
   ]
  },
  {
   "cell_type": "markdown",
   "metadata": {},
   "source": [
    "Lista kolumn wraz z typami danych, które przechowują:"
   ]
  },
  {
   "cell_type": "code",
   "execution_count": null,
   "metadata": {
    "scrolled": false
   },
   "outputs": [],
   "source": [
    "df.dtypes"
   ]
  },
  {
   "cell_type": "markdown",
   "metadata": {},
   "source": [
    "Statystyka podsumowująca dla wszystkich kolumn w zbiorze:"
   ]
  },
  {
   "cell_type": "code",
   "execution_count": null,
   "metadata": {},
   "outputs": [],
   "source": [
    "df.describe(include='all')"
   ]
  },
  {
   "cell_type": "markdown",
   "metadata": {},
   "source": [
    "Analiza zbioru pod kątem brakujących wartości na poszczególnych kolumnach:"
   ]
  },
  {
   "cell_type": "code",
   "execution_count": null,
   "metadata": {
    "scrolled": true
   },
   "outputs": [],
   "source": [
    "df.isnull().sum()"
   ]
  },
  {
   "cell_type": "markdown",
   "metadata": {},
   "source": [
    "Brakujące wartości występują na trzech kolumnach:\n",
    "* `Age` - 173 brakujące wartości,\n",
    "* `Cabin` - 685 brakujących wartości,\n",
    "* `Embarked` - 2 brakujące wartości."
   ]
  },
  {
   "cell_type": "markdown",
   "metadata": {},
   "source": [
    "## Analiza poszczególnych kolumn"
   ]
  },
  {
   "cell_type": "markdown",
   "metadata": {},
   "source": [
    "### 1. PassengerId"
   ]
  },
  {
   "cell_type": "markdown",
   "metadata": {},
   "source": [
    "Wartości na tej kolumnie są identyfikatorami pasażerów, które powinny być kolejnymi liczbami naturalnymi (bez zera), a dodatkowo powinny być unikalne (każda wartość powinna wystąpić tylko raz). Nie ma brakujących wartości na tej kolumnie."
   ]
  },
  {
   "cell_type": "markdown",
   "metadata": {},
   "source": [
    "Okazuje się, że wartości są liczbami naturalnymi większymi od zera:"
   ]
  },
  {
   "cell_type": "code",
   "execution_count": null,
   "metadata": {},
   "outputs": [],
   "source": [
    "np.logical_not(df['PassengerId'].astype(str).str.isdigit()).any()"
   ]
  },
  {
   "cell_type": "code",
   "execution_count": null,
   "metadata": {},
   "outputs": [],
   "source": [
    "df['PassengerId'][df['PassengerId'] < 1].any()"
   ]
  },
  {
   "cell_type": "markdown",
   "metadata": {},
   "source": [
    "Występują jednak duplikaty (rekordy o identyfikatorach 11 i 225):"
   ]
  },
  {
   "cell_type": "code",
   "execution_count": null,
   "metadata": {},
   "outputs": [],
   "source": [
    "df['PassengerId'].is_unique"
   ]
  },
  {
   "cell_type": "code",
   "execution_count": null,
   "metadata": {},
   "outputs": [],
   "source": [
    "df[df['PassengerId'].duplicated(keep=False)]"
   ]
  },
  {
   "cell_type": "markdown",
   "metadata": {},
   "source": [
    "Należy także wspomnieć o tym, że ostatni rekord, w przeciwieństwie do pozostałych, ma identyfikator o wartości większej niż wskazywałaby na to liczba rekordów. Według \"licznika\" powinien mieć identyfikator 892, a ma 1000."
   ]
  },
  {
   "cell_type": "code",
   "execution_count": null,
   "metadata": {},
   "outputs": [],
   "source": [
    "df['PassengerId'][-3:]"
   ]
  },
  {
   "cell_type": "markdown",
   "metadata": {},
   "source": [
    "Czyszczenie tej kolumny polegało na usunięciu duplikatów - opis wykonania tej czynności został przedstawiony w dalszej części sprawozdania."
   ]
  },
  {
   "cell_type": "markdown",
   "metadata": {},
   "source": [
    "### 2. Survived"
   ]
  },
  {
   "cell_type": "markdown",
   "metadata": {},
   "source": [
    "Wartości na tej kolumnie dają informację o tym czy pasażer przeżył katastrofę: `0` - nie przeżył, `1` - przeżył, więc wartości powinny należeć do zbioru `{0, 1}`. Na tej kolumnie nie występują brakujące wartości."
   ]
  },
  {
   "cell_type": "code",
   "execution_count": null,
   "metadata": {},
   "outputs": [],
   "source": [
    "np.logical_not(df['Survived'].isin([0, 1])).any()"
   ]
  },
  {
   "cell_type": "markdown",
   "metadata": {},
   "source": [
    "Wyżej udowodniono, że wszystkie wartości na kolumnie `Survived` należą do zbioru `{0, 1}`, więc ta kolumna nie wymaga przetwarzania."
   ]
  },
  {
   "cell_type": "markdown",
   "metadata": {},
   "source": [
    "### 3. Pclass"
   ]
  },
  {
   "cell_type": "markdown",
   "metadata": {},
   "source": [
    "Kolumna `Pclass` zawiera informacje o klasie biletu pasażera, gdzie wartości powinny należeć do zbioru `{1, 2, 3}`. Według wcześniejszych analiz nie ma brakujących wartości na tej kolumnie."
   ]
  },
  {
   "cell_type": "code",
   "execution_count": null,
   "metadata": {},
   "outputs": [],
   "source": [
    "np.logical_not(df['Pclass'].isin([1, 2, 3])).any()"
   ]
  },
  {
   "cell_type": "markdown",
   "metadata": {},
   "source": [
    "Okazuje się, że wszystkie wartości należą do zbioru `{1, 2, 3}`, więc ta kolumna nie wymaga przetwarzania."
   ]
  },
  {
   "cell_type": "markdown",
   "metadata": {},
   "source": [
    "### 4. Name"
   ]
  },
  {
   "cell_type": "markdown",
   "metadata": {},
   "source": [
    "Kolumna `Name` zawiera informacje o nazwiskach pasażerów. Tutaj także nie występują brakujące wartości, ale za to występują niekiedy znaki, które raczej nie powinny znajdować się w nazwiskach, takie jak: `$` czy `&`:"
   ]
  },
  {
   "cell_type": "code",
   "execution_count": null,
   "metadata": {},
   "outputs": [],
   "source": [
    "df[df['Name'].str.contains('[^A-Za-z\\s\"\\'.,()/-]')]"
   ]
  },
  {
   "cell_type": "markdown",
   "metadata": {},
   "source": [
    "Znaki akceptowane na tej kolumnie: wielka litera, mała litera, biały znak (spacja), cudzysłów, apostrof, kropka, przecinek, lewy nawias okrągły, prawy nawias okrągły, slash oraz myślnik.\n",
    "\n",
    "Czyszczenie tej kolumny polegało na usunięciu znaków `$` oraz `&` - opis wykonania ten czynności został przedstawiony w dalszej części sprawozdania."
   ]
  },
  {
   "cell_type": "markdown",
   "metadata": {},
   "source": [
    "### 5. Sex"
   ]
  },
  {
   "cell_type": "markdown",
   "metadata": {},
   "source": [
    "Wartości na kolumnie `Sex` oznaczają płeć pasażera, czyli powinny należeć do zbioru `{male, female}`. Okazuje się jednak, że tak nie jest:"
   ]
  },
  {
   "cell_type": "code",
   "execution_count": null,
   "metadata": {
    "scrolled": true
   },
   "outputs": [],
   "source": [
    "np.logical_not(df['Sex'].isin(['male', 'female'])).any()"
   ]
  },
  {
   "cell_type": "code",
   "execution_count": null,
   "metadata": {},
   "outputs": [],
   "source": [
    "df['Sex'].value_counts()"
   ]
  },
  {
   "cell_type": "markdown",
   "metadata": {},
   "source": [
    "Inne wartości prawdopodobnie wynikają z błędów podczas wprowadzania danych. Naprawianie tych błędów polegało na zamianie błędnych wartości na poprawne wartości. Opis wykonania tej czynności został przedstawiony w dalszej części sprawozdania."
   ]
  },
  {
   "cell_type": "markdown",
   "metadata": {},
   "source": [
    "### 6. Age"
   ]
  },
  {
   "cell_type": "markdown",
   "metadata": {},
   "source": [
    "Wartości na kolumnie `Age` oznaczają wiek pasażera. Ze wstępnej analizy wynika, że występują tam brakujące wartości. Jednak nie jest to jedyny problem, ponieważ występują tam także wartości zmiennoprzecinkowe, co raczej jest błędem w przypadku informacji o wieku pasażera."
   ]
  },
  {
   "cell_type": "markdown",
   "metadata": {},
   "source": [
    "Na tej kolumnie zdarzają się wartości typu `0,75`, `0,83`, `0,92`:"
   ]
  },
  {
   "cell_type": "code",
   "execution_count": null,
   "metadata": {},
   "outputs": [],
   "source": [
    "df[df['Age'].str.contains(r'^0,\\d+$', na=False)]"
   ]
  },
  {
   "cell_type": "markdown",
   "metadata": {},
   "source": [
    "Występuje też wartość `.9`:"
   ]
  },
  {
   "cell_type": "code",
   "execution_count": null,
   "metadata": {},
   "outputs": [],
   "source": [
    "df[df['Age'].str.contains(r'^\\.9$', na=False)]"
   ]
  },
  {
   "cell_type": "markdown",
   "metadata": {},
   "source": [
    "Występują także wartości typu: `7,5`, `15,5`:\n"
   ]
  },
  {
   "cell_type": "code",
   "execution_count": null,
   "metadata": {
    "scrolled": true
   },
   "outputs": [],
   "source": [
    "df[df['Age'].str.contains('^\\d+,5$', na=False)]"
   ]
  },
  {
   "cell_type": "markdown",
   "metadata": {},
   "source": [
    "Zdarzają się także liczby ujemne, np. `-12`:"
   ]
  },
  {
   "cell_type": "code",
   "execution_count": null,
   "metadata": {},
   "outputs": [],
   "source": [
    "df[df['Age'].str.contains('^-\\d+$', na=False)]"
   ]
  },
  {
   "cell_type": "markdown",
   "metadata": {},
   "source": [
    "Czyszczenie tej kolumny będzie polegało na usuwaniu całej wartości albo jej wybranej części (w zależności od wartości) - opis wykonania tych czynności został przedstawiony w dalszej części sprawozdania."
   ]
  },
  {
   "cell_type": "markdown",
   "metadata": {},
   "source": [
    "### 7. SibSp"
   ]
  },
  {
   "cell_type": "markdown",
   "metadata": {},
   "source": [
    "Wartości na kolumnie `SibSp` oznaczają liczbę rodzeństwa/małżonków pasażera na pokładzie statku. Według wstępnej analizy nie ma tutaj brakujących wartości, a intuicja mówi, że powinny się tutaj pojawiać wartości będące liczbami naturalnymi (wraz z zerem)."
   ]
  },
  {
   "cell_type": "code",
   "execution_count": null,
   "metadata": {},
   "outputs": [],
   "source": [
    "np.logical_not(df['SibSp'].astype(str).str.isdigit()).any()"
   ]
  },
  {
   "cell_type": "code",
   "execution_count": null,
   "metadata": {},
   "outputs": [],
   "source": [
    "df['SibSp'][df['SibSp'] < 0].any()"
   ]
  },
  {
   "cell_type": "markdown",
   "metadata": {},
   "source": [
    "Okazuje się, że wszystkie wartości na kolumnie `SibSp` są liczbami naturalnymi (wraz z zerem), czyli kolumna nie wymaga przetwarzania."
   ]
  },
  {
   "cell_type": "markdown",
   "metadata": {},
   "source": [
    "### 8. Parch"
   ]
  },
  {
   "cell_type": "markdown",
   "metadata": {},
   "source": [
    "Wartości na kolumnie `Parch` oznaczają liczbę rodziców/dzieci pasażera na pokładzie statku. Według wstępnej analizy nie ma tutaj brakujących wartości, a intuicja mówi, że powinny się tutaj pojawiać wartości będące liczbami naturalnymi (wraz z zerem)."
   ]
  },
  {
   "cell_type": "code",
   "execution_count": null,
   "metadata": {
    "scrolled": true
   },
   "outputs": [],
   "source": [
    "np.logical_not(df['Parch'].astype(str).str.isdigit()).any()"
   ]
  },
  {
   "cell_type": "code",
   "execution_count": null,
   "metadata": {
    "scrolled": false
   },
   "outputs": [],
   "source": [
    "df['Parch'][df['Parch'] < 0].any()"
   ]
  },
  {
   "cell_type": "markdown",
   "metadata": {},
   "source": [
    "Okazuje się, że wszystkie wartości na kolumnie `Parch` są liczbami naturalnymi (wraz z zerem), czyli kolumna nie wymaga przetwarzania."
   ]
  },
  {
   "cell_type": "markdown",
   "metadata": {},
   "source": [
    "### 9. Ticket"
   ]
  },
  {
   "cell_type": "markdown",
   "metadata": {},
   "source": [
    "Wartości na kolumnie `Ticket` są numerami biletów pasażerów. Nie występują tutaj braki w danych. Wartości występujące na tym atrybucie można podzielić na dwie grupy: albo są to same liczby albo połączenie oznaczenia tekstowego wraz z liczbą. Ciężko określić czy numery biletów bez części tekstowej są poprawne albo niepoprawne. Wydaje się, że nie ma potrzeby przetwarzania/czyszczenia danych na tej kolumnie."
   ]
  },
  {
   "cell_type": "markdown",
   "metadata": {},
   "source": [
    "### 10. Fare"
   ]
  },
  {
   "cell_type": "markdown",
   "metadata": {},
   "source": [
    "Wartości na kolumnie `Fare` reprezentują ceny biletów. Nie ma tutaj brakujących wartości. Dane powinny przyjmować postać liczb zmiennoprzecinkowych. Jednak występują wyjątki:"
   ]
  },
  {
   "cell_type": "code",
   "execution_count": null,
   "metadata": {},
   "outputs": [],
   "source": [
    "df[df['Fare'].str.contains('[^0-9,]+')]"
   ]
  },
  {
   "cell_type": "markdown",
   "metadata": {},
   "source": [
    "Czyszczenie danych na tej kolumnie polegało na usunięciu znaków innych niż cyfry i przecinki - opis wykonania tej czynności został przedstawiony w dalszej części sprawozdania."
   ]
  },
  {
   "cell_type": "markdown",
   "metadata": {},
   "source": [
    "### 11. Cabin"
   ]
  },
  {
   "cell_type": "markdown",
   "metadata": {},
   "source": [
    "Ze względu na to, że na kolumnie `Cabin` brakuje ponad 75% wartości, a ich sztuczne uzupełnianie raczej mija się z celem, postanowiono usunąć tę kolumnę - opis wykonania tej czynności został przedstawiony w dalszej części sprawozdania."
   ]
  },
  {
   "cell_type": "markdown",
   "metadata": {},
   "source": [
    "### 12. Embarked"
   ]
  },
  {
   "cell_type": "markdown",
   "metadata": {},
   "source": [
    "Wartości na atrybucie `Embarked` oznaczają skrótową nazwę portu, z którego pasażer rozpoczął podróż: `C - Cherbourg`, `Q - Queenstown`, `S - Southampton`. Z wstępnej analizy wynika, że na tym atrybucie brakuje tylko dwóch wartości. Każdy rekord powinien przyjąć jedną z trzech wartości: `C`, `Q`, `S`, jednak tak nie jest:"
   ]
  },
  {
   "cell_type": "code",
   "execution_count": null,
   "metadata": {},
   "outputs": [],
   "source": [
    "np.logical_not(df['Embarked'].isin(['C', 'Q', 'S'])).any()"
   ]
  },
  {
   "cell_type": "code",
   "execution_count": null,
   "metadata": {
    "scrolled": true
   },
   "outputs": [],
   "source": [
    "df['Embarked'].value_counts()"
   ]
  },
  {
   "cell_type": "markdown",
   "metadata": {},
   "source": [
    "Inne wartości prawdopodobnie wynikają z błędów podczas wprowadzania danych. Naprawianie tych błędów polegało na zamianie błędnych wartości na poprawne wartości. Opis wykonania tej czynności został przedstawiony w dalszej części sprawozdania."
   ]
  },
  {
   "cell_type": "markdown",
   "metadata": {},
   "source": [
    "### 13. Ship"
   ]
  },
  {
   "cell_type": "markdown",
   "metadata": {},
   "source": [
    "Na kolumnie `Ship` występuje tylko jedna wartość dla wszystkich rekordów:"
   ]
  },
  {
   "cell_type": "code",
   "execution_count": null,
   "metadata": {
    "scrolled": true
   },
   "outputs": [],
   "source": [
    "df['ship'].value_counts()"
   ]
  },
  {
   "cell_type": "markdown",
   "metadata": {},
   "source": [
    "Z tego powodu postanowiono usunąć tą kolumnę - opis wykonania tej czynności został przedstawiony w dalszej części sprawozdania."
   ]
  },
  {
   "cell_type": "markdown",
   "metadata": {},
   "source": [
    "## Czyszczenie/przetwarzanie danych"
   ]
  },
  {
   "cell_type": "markdown",
   "metadata": {},
   "source": [
    "### 1.  Usuwanie duplikatów"
   ]
  },
  {
   "cell_type": "markdown",
   "metadata": {},
   "source": [
    "Z wcześniejszej analizy wynika, że duplikaty występują jedynie na kolumnie `PassengerId`. Ich usunięcia dokonano za pomocą metody `drop_duplicates`, wskazując kolumnę (`subset`) oraz tryb (`keep`), gdzie określono, że pierwsze wystąpienie zduplikowanego rekordu ma nie być usuwane:"
   ]
  },
  {
   "cell_type": "code",
   "execution_count": null,
   "metadata": {},
   "outputs": [],
   "source": [
    "df.drop_duplicates(subset='PassengerId', keep='first', inplace=True)"
   ]
  },
  {
   "cell_type": "markdown",
   "metadata": {},
   "source": [
    "W wyniku czego pozbyto się duplikatów na kolumnie `PassengerId`:"
   ]
  },
  {
   "cell_type": "code",
   "execution_count": null,
   "metadata": {
    "scrolled": true
   },
   "outputs": [],
   "source": [
    "df['PassengerId'].is_unique"
   ]
  },
  {
   "cell_type": "markdown",
   "metadata": {},
   "source": [
    "### 2. Poprawianie błędnych wartości"
   ]
  },
  {
   "cell_type": "markdown",
   "metadata": {},
   "source": [
    "Poprawianie błędnych danych zazwyczaj sprowadza się podmienienia konkretnej\n",
    "wartości na inną wartość albo do wykorzystania wyrażeń regularnych w celu odnalezienia pasujących do wyrażenia wartości i ich zastąpieniu."
   ]
  },
  {
   "cell_type": "markdown",
   "metadata": {},
   "source": [
    "### 2.1. Usuwanie niepoprawnych znaków z nazwisk"
   ]
  },
  {
   "cell_type": "markdown",
   "metadata": {},
   "source": [
    "Z wcześniejszej analizy wynika, że w wartościach na kolumnie `Name` występują znaki `$` oraz `&`. Zdecydowano się je usunąć:"
   ]
  },
  {
   "cell_type": "code",
   "execution_count": null,
   "metadata": {},
   "outputs": [],
   "source": [
    "df['Name'] = df['Name'].str.replace('[^A-Za-z\\s\"\\'.,()/-]', '')"
   ]
  },
  {
   "cell_type": "markdown",
   "metadata": {},
   "source": [
    "Brak wartości `$` oraz `&` na kolumnie `Name`:"
   ]
  },
  {
   "cell_type": "code",
   "execution_count": null,
   "metadata": {},
   "outputs": [],
   "source": [
    "df['Name'].str.contains('[^A-Za-z\\s\"\\'.,()/-]').any()"
   ]
  },
  {
   "cell_type": "markdown",
   "metadata": {},
   "source": [
    "### 2.2. Błędy w zapisie płci"
   ]
  },
  {
   "cell_type": "markdown",
   "metadata": {},
   "source": [
    "Wcześniejsza analiza wykazała, że w kilku wartościach na kolumnie `Sex` występują błędnie zapisane płcie. Błędy te zostały poprawione w następujący sposób:"
   ]
  },
  {
   "cell_type": "code",
   "execution_count": null,
   "metadata": {},
   "outputs": [],
   "source": [
    "df['Sex'].replace(['mal', 'malef'], 'male', inplace=True)\n",
    "df['Sex'].replace(['femmale', 'fem'], 'female', inplace=True)"
   ]
  },
  {
   "cell_type": "markdown",
   "metadata": {},
   "source": [
    "W rezultacie udało się usunąć błędne wartości:"
   ]
  },
  {
   "cell_type": "code",
   "execution_count": null,
   "metadata": {},
   "outputs": [],
   "source": [
    "df['Sex'].value_counts()"
   ]
  },
  {
   "cell_type": "markdown",
   "metadata": {},
   "source": [
    "### 2.3. Błędy w zapisie wieku"
   ]
  },
  {
   "cell_type": "markdown",
   "metadata": {},
   "source": [
    "Z wcześniejszej analizy wynika, że na kolumnie `Age` występują wartości zmiennoprzecinkowe, co nie jest pożądane w przypadku informacji o wieku."
   ]
  },
  {
   "cell_type": "markdown",
   "metadata": {},
   "source": [
    "Wartości typu `0,75`, `0,83` czy `0,92` zostają usunięte:"
   ]
  },
  {
   "cell_type": "code",
   "execution_count": null,
   "metadata": {},
   "outputs": [],
   "source": [
    "df['Age'] = df['Age'].str.replace(r'^0,\\d+$', 'NA')"
   ]
  },
  {
   "cell_type": "markdown",
   "metadata": {},
   "source": [
    "Tak samo jak wartość `.9`:"
   ]
  },
  {
   "cell_type": "code",
   "execution_count": null,
   "metadata": {},
   "outputs": [],
   "source": [
    "df['Age'] = df['Age'].str.replace(r'^\\.9$', 'NA')"
   ]
  },
  {
   "cell_type": "markdown",
   "metadata": {},
   "source": [
    "Z wartości typu `7,5`, `15,5` zostaje usunięta część ułamkowa:"
   ]
  },
  {
   "cell_type": "code",
   "execution_count": null,
   "metadata": {},
   "outputs": [],
   "source": [
    "df['Age'] = df['Age'].str.replace(r'^(\\d+),5$', r'\\1')"
   ]
  },
  {
   "cell_type": "markdown",
   "metadata": {},
   "source": [
    "Z liczb ujemnych zostaje usunięty znak `-`:"
   ]
  },
  {
   "cell_type": "code",
   "execution_count": null,
   "metadata": {},
   "outputs": [],
   "source": [
    "df['Age'] = df['Age'].str.replace(r'^-(\\d+)$', r'\\1')"
   ]
  },
  {
   "cell_type": "markdown",
   "metadata": {},
   "source": [
    "Na koniec wartości `NA` zostają przekonwertowane na `np.nan` w celu późniejszego uzupełnienia:"
   ]
  },
  {
   "cell_type": "code",
   "execution_count": null,
   "metadata": {},
   "outputs": [],
   "source": [
    "df['Age'].replace('NA', np.nan, inplace=True)"
   ]
  },
  {
   "cell_type": "markdown",
   "metadata": {},
   "source": [
    "Uznano także, że należy zmienić wartości powyżej `100` (w oryginalnym zbiorze występują wartości `250` oraz `4435`), ponieważ wynikają prawdopodobnie z omyłkowego dopisania cyfr. I tak wartość `250` staje się wartością `25`, a wartość `4435` staje się wartością `44`:"
   ]
  },
  {
   "cell_type": "code",
   "execution_count": null,
   "metadata": {},
   "outputs": [],
   "source": [
    "df_age_without_nan = df[df['Age'].notnull()]\n",
    "for index in df_age_without_nan[df_age_without_nan['Age'].astype(int) > 100].index:\n",
    "    df.loc[index, 'Age'] = df.loc[index, 'Age'][0:2]"
   ]
  },
  {
   "cell_type": "markdown",
   "metadata": {},
   "source": [
    "Wszystkie wartości na kolumnie `Age` (z wyłączeniem `NaN`) mają odpowiedni format:"
   ]
  },
  {
   "cell_type": "code",
   "execution_count": null,
   "metadata": {
    "scrolled": true
   },
   "outputs": [],
   "source": [
    "df['Age'].dropna().str.contains('[^\\d{,2}]').any()"
   ]
  },
  {
   "cell_type": "markdown",
   "metadata": {},
   "source": [
    "### 2.4. Oczyszczenie wartości na kolumnie `Fare`"
   ]
  },
  {
   "cell_type": "markdown",
   "metadata": {},
   "source": [
    "Podczas analizy zauważono, że na kolumnie `Fare` występują niedozwolone znaki. Ich usunięcia dokonano w następujący sposób:"
   ]
  },
  {
   "cell_type": "code",
   "execution_count": null,
   "metadata": {},
   "outputs": [],
   "source": [
    "df['Fare'] = df['Fare'].str.replace('[^0-9,]+', '')"
   ]
  },
  {
   "cell_type": "markdown",
   "metadata": {},
   "source": [
    "W celu uniknięcia problemów podczas importu danych w dalszych etapach prac nad zbiorem zdecydowano się także na zastąpienie separatora liczb zmiennoprzecinkowych z `,` na `.` oraz sformatowanie wartości na typ `float`:"
   ]
  },
  {
   "cell_type": "code",
   "execution_count": null,
   "metadata": {},
   "outputs": [],
   "source": [
    "df['Fare'] = df['Fare'].str.replace(',', '.')\n",
    "df['Fare'] = df['Fare'].astype(float)"
   ]
  },
  {
   "cell_type": "markdown",
   "metadata": {},
   "source": [
    "### 2.5. Błędy w nazwach portu startowego"
   ]
  },
  {
   "cell_type": "markdown",
   "metadata": {},
   "source": [
    "Wcześniejsza analiza wykazała, że występują niepoprawne nazwy portów, z których pasażerowie rozpoczynali podróż. W celu naprawienia tych błędów zamieniono błędne nazwy na poprawne:"
   ]
  },
  {
   "cell_type": "code",
   "execution_count": null,
   "metadata": {},
   "outputs": [],
   "source": [
    "df.replace({'Embarked': {'Co': 'C', 'Qe': 'Q', 'So': 'S'}}, inplace=True)"
   ]
  },
  {
   "cell_type": "markdown",
   "metadata": {},
   "source": [
    "Wartości na kolumnie `Embarked` po poprawieniu błędów:"
   ]
  },
  {
   "cell_type": "code",
   "execution_count": null,
   "metadata": {},
   "outputs": [],
   "source": [
    "df['Embarked'].value_counts()"
   ]
  },
  {
   "cell_type": "markdown",
   "metadata": {},
   "source": [
    "### 3. Uzupełnianie brakujących wartości"
   ]
  },
  {
   "cell_type": "markdown",
   "metadata": {},
   "source": [
    "W zbiorze brakujące wartości występują na trzech kolumnach: `Age`, `Cabin` oraz `Embarked`. Ze względu na brak ponad 75% wartości na kolumnie `Cabin` postanowiono ją usunąć, ale wartości na pozostałych kolumnach zostały uzupełnione."
   ]
  },
  {
   "cell_type": "markdown",
   "metadata": {},
   "source": [
    "### 3.1. Uzupełnianie wartości na kolumie `Age`"
   ]
  },
  {
   "cell_type": "markdown",
   "metadata": {},
   "source": [
    "Postanowiono uzupełnić brakujące wartości na kolumnie `Age` średnim wiekiem występującym na tej kolumnie:"
   ]
  },
  {
   "cell_type": "code",
   "execution_count": null,
   "metadata": {},
   "outputs": [],
   "source": [
    "mean_age = round(df['Age'].dropna().astype(int).mean())\n",
    "print('Średni wiek: {0}'.format(mean_age))"
   ]
  },
  {
   "cell_type": "code",
   "execution_count": null,
   "metadata": {},
   "outputs": [],
   "source": [
    "df['Age'].fillna(mean_age, inplace=True)"
   ]
  },
  {
   "cell_type": "markdown",
   "metadata": {},
   "source": [
    "Wszystkie brakujące wartości zostały uzupełnione:"
   ]
  },
  {
   "cell_type": "code",
   "execution_count": null,
   "metadata": {},
   "outputs": [],
   "source": [
    "df['Age'].isnull().any()"
   ]
  },
  {
   "cell_type": "markdown",
   "metadata": {},
   "source": [
    "### 3.2. Uzupełnianie wartości na kolumnie `Embarked`"
   ]
  },
  {
   "cell_type": "markdown",
   "metadata": {},
   "source": [
    "W tym przypadku dwie brakujące wartości postanowiono uzupełnić wartością najczęściej występującą na kolumnie `Embarked`:"
   ]
  },
  {
   "cell_type": "code",
   "execution_count": null,
   "metadata": {},
   "outputs": [],
   "source": [
    "df['Embarked'].value_counts()"
   ]
  },
  {
   "cell_type": "code",
   "execution_count": null,
   "metadata": {},
   "outputs": [],
   "source": [
    "most_popular_embarked_value = df['Embarked'].value_counts().index[0]\n",
    "print('Wartość najczęściej występująca: {0}'.format(most_popular_embarked_value))"
   ]
  },
  {
   "cell_type": "code",
   "execution_count": null,
   "metadata": {},
   "outputs": [],
   "source": [
    "df['Embarked'].fillna(most_popular_embarked_value, inplace=True)"
   ]
  },
  {
   "cell_type": "markdown",
   "metadata": {},
   "source": [
    "Wszystkie brakujące wartości zostały uzupełnione:"
   ]
  },
  {
   "cell_type": "code",
   "execution_count": null,
   "metadata": {},
   "outputs": [],
   "source": [
    "df['Embarked'].isnull().any()"
   ]
  },
  {
   "cell_type": "markdown",
   "metadata": {},
   "source": [
    "### 4.  Usuwanie kolumn"
   ]
  },
  {
   "cell_type": "markdown",
   "metadata": {},
   "source": [
    "Zdecydowano się na usunięcie kolumn `Cabin` - ponad 75% brakujących wartości oraz `Ship` - jedna wartość występująca na wszystkich rekordach."
   ]
  },
  {
   "cell_type": "code",
   "execution_count": null,
   "metadata": {},
   "outputs": [],
   "source": [
    "df.drop(columns=['Cabin', 'ship'], axis=1, inplace=True)"
   ]
  },
  {
   "cell_type": "markdown",
   "metadata": {},
   "source": [
    "Potwierdzenie usunięcia kolumn:"
   ]
  },
  {
   "cell_type": "code",
   "execution_count": null,
   "metadata": {
    "scrolled": true
   },
   "outputs": [],
   "source": [
    "'Cabin' in df"
   ]
  },
  {
   "cell_type": "code",
   "execution_count": null,
   "metadata": {},
   "outputs": [],
   "source": [
    "'ship' in df"
   ]
  },
  {
   "cell_type": "markdown",
   "metadata": {},
   "source": [
    "## Zapis przetworzonych danych do pliku"
   ]
  },
  {
   "cell_type": "markdown",
   "metadata": {},
   "source": [
    "Po przetworzeniu wszystkich kolumn nie ma już brakujących wartości:"
   ]
  },
  {
   "cell_type": "code",
   "execution_count": null,
   "metadata": {},
   "outputs": [],
   "source": [
    "df.isnull().sum()"
   ]
  },
  {
   "cell_type": "markdown",
   "metadata": {},
   "source": [
    "Na koniec zapisano oczyszczone dane do pliku `TitanicCleaned.tsv`:"
   ]
  },
  {
   "cell_type": "code",
   "execution_count": null,
   "metadata": {},
   "outputs": [],
   "source": [
    "df.to_csv('TitanicCleaned.tsv', sep='\\t', index=False)"
   ]
  }
 ],
 "metadata": {
  "kernelspec": {
   "display_name": "Python 3",
   "language": "python",
   "name": "python3"
  },
  "language_info": {
   "codemirror_mode": {
    "name": "ipython",
    "version": 3
   },
   "file_extension": ".py",
   "mimetype": "text/x-python",
   "name": "python",
   "nbconvert_exporter": "python",
   "pygments_lexer": "ipython3",
   "version": "3.8.5"
  }
 },
 "nbformat": 4,
 "nbformat_minor": 4
}
